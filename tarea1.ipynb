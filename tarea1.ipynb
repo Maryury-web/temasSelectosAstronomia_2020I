{
 "cells": [
  {
   "cell_type": "markdown",
   "metadata": {},
   "source": [
    "# Tarea 1: Encontrando el baricentro para dos objetos"
   ]
  },
  {
   "cell_type": "markdown",
   "metadata": {},
   "source": [
    "Sea un objeto de masa $m_1$ el cuál llamaremos el objeto primario, y un objeto de masa $m_2$. Se tiene que  $m1>m2$, lo cuál es la definición de objeto primario. El centro de masa de estos dos objetos está localizado a una distancia $r_1$ del objeto de masa $m_1$ y a una distancia $r_2$ del objeto de masa $m_2$.\n",
    "\n",
    "Sea $$d=r_1 + r_2, \\qquad \\left(1\\right)$$\n",
    "\n",
    "y \n",
    "\n",
    "$$R = \\frac{m_1r_1 - m_2r_2}{r_1 + r_2}.$$\n",
    "\n",
    "Note que la definición de $R$ toma un signo negativo ya que las direcciones de los cuerpos con respecto al centro de masa son opuestas.\n",
    "\n",
    "Si $R$ es el origen del sistema en el baricentro, $R=0$ implica entonces que\n",
    "\n",
    "$$m_1r_1 - m_2r_2 = 0. \\qquad \\left(2\\right)$$\n",
    "\n",
    "\n",
    "A partir de $\\left(1\\right)$ se tiene que \n",
    "\n",
    "$$r_2 = d - r_1,$$\n",
    "\n",
    "sustituyendo en $\\left(2\\right)$\n",
    "\n",
    "$$m_1r_1-m_2\\left( d - r_1\\right)=0,$$\n",
    "\n",
    "con lo cuál\n",
    "\n",
    "$$r_1 =  \\frac{m_2d}{m_1+m_2}. \\qquad \\left(3\\right)$$ \n",
    "\n",
    "Al dividir el lado derecho de la expresión $\\left(3\\right)$ por $m_1$ se tiene que\n",
    "\n",
    "$$r_1 =  \\frac{dM}{1+M}, \\qquad \\left(4\\right)$$\n",
    "\n",
    "con $M=\\frac{m_2}{m_1}$.\n",
    "\n",
    "Análogamente se tiene que \n",
    "\n",
    "$$r_2 =  \\frac{d}{1+M}. \\qquad \\left(5\\right)$$\n",
    "\n",
    "\n",
    "Note también que se si $r$ es el radio del objeto primario, la expresión $\\Delta = \\frac{r_1}{r}$ determina si el baricentro se encuentra o no dentro del tal objeto.\n"
   ]
  },
  {
   "cell_type": "code",
   "execution_count": 1,
   "metadata": {},
   "outputs": [],
   "source": [
    "import numpy as np"
   ]
  },
  {
   "cell_type": "code",
   "execution_count": 12,
   "metadata": {},
   "outputs": [],
   "source": [
    "#Datos tomados de https://nssdc.gsfc.nasa.gov/planetary/factsheet/\n",
    "\n",
    "#Masas en 10^24 kg\n",
    "m = {'Sol':1988500, 'Mercurio':0.330, 'Venus':4.87, 'Tierra':5.97, 'Luna':0.073, 'Marte':0.642, 'Jupiter':1898,\n",
    "        'Saturno':568, 'Urano':86.8, 'Neptuno':102, 'Pluton':0.0146}\n",
    "#Distancias al Sol en 10^6 km\n",
    "#La distancia de la luna es la distancia promedio de esta a la Tierra\n",
    "d = {'Sol':0, 'Mercurio':57.9, 'Venus':108.2, 'Tierra':149.6, 'Luna':0.384, 'Marte':227.9, 'Jupiter':778.6,\n",
    "        'Saturno':1433.5, 'Urano':2872.5, 'Neptuno':4495.1, 'Pluton':5906.4}\n",
    "#Diámetros \n",
    "r = {'Sol':1391016, 'Mercurio':4879, 'Venus':12104, 'Tierra':12756, 'Luna':3475, 'Marte':6792, 'Jupiter':142984,\n",
    "        'Saturno':120536, 'Urano':51118, 'Neptuno':49528, 'Pluton':2370}\n"
   ]
  },
  {
   "cell_type": "markdown",
   "metadata": {},
   "source": [
    "## Sistema Sol - Planeta "
   ]
  },
  {
   "cell_type": "code",
   "execution_count": 4,
   "metadata": {},
   "outputs": [
    {
     "name": "stdout",
     "output_type": "stream",
     "text": [
      "El baricentro es  742455.93 km a partir del centro del Sol y se encuentra fuera de este\n"
     ]
    }
   ],
   "source": [
    "m1 = m['Sol'];    \n",
    "#Objeto secundario\n",
    "m2 = m['Jupiter'];    R = d['Jupiter'];  \n",
    "#Baricentro\n",
    "M = m2/m1;       \n",
    "b1 = R*M/(1+M)*(10**6);    b2 = R/(1+M)*(10**6);\n",
    "\n",
    "#¿Adentro o afuera del Sol?\n",
    "r1 = 0.5*r['Sol'] #Radio del Sol  \n",
    "delta = b1/(r1)\n",
    "if delta > 1:\n",
    "    print(\"El baricentro es \", round(b1,2), \"km a partir del centro del Sol y se encuentra fuera de este\")\n",
    "elif delta < 1:\n",
    "    print(\"El baricentro es \", round(b1,2), \"km a partir del centro del Sol y se encuentra adentro de este\")"
   ]
  },
  {
   "cell_type": "markdown",
   "metadata": {},
   "source": [
    "## Sistema Planeta-Planeta\n"
   ]
  },
  {
   "cell_type": "code",
   "execution_count": 13,
   "metadata": {},
   "outputs": [
    {
     "name": "stdout",
     "output_type": "stream",
     "text": [
      "El baricentro es  186211.72 km a partir del objeto primario y se encuentra fuera de este\n"
     ]
    }
   ],
   "source": [
    "#Datos del primer objeto\n",
    "m1 = m['Marte'];    d1 = d['Marte'];   r1 = r[\"Marte\"];\n",
    "#Datos del segundo objeto\n",
    "m2 = m['Jupiter'];    d2 = d['Jupiter'];  r2 = r[\"Jupiter\"]\n",
    "#Baricentro\n",
    "if m2 < m1:\n",
    "    M = m2/m1\n",
    "else:\n",
    "    M = m1/m2\n",
    "R = np.abs(d1 - d2);\n",
    "b1 = R*M/(1+M)*(10**6);    b2 = R/(1+M)*(10**6);\n",
    "#¿Adentro o afuera del objeto primario?\n",
    "#Radio del objeto primario\n",
    "if r1<r2:\n",
    "    r = 0.5*r2\n",
    "else:\n",
    "    r = 0.5*r1       \n",
    "######################\n",
    "delta = b1/r\n",
    "if delta > 1:\n",
    "    print(\"El baricentro es \", round(b1,2), \"km a partir del objeto primario y se encuentra fuera de este\")\n",
    "else:\n",
    "    print(\"El baricentro es \", round(b1,2), \"km a partir del objeto primario y se encuentra adentro de este\")"
   ]
  },
  {
   "cell_type": "markdown",
   "metadata": {},
   "source": [
    "## Sistema Tierra - Luna"
   ]
  },
  {
   "cell_type": "code",
   "execution_count": 5,
   "metadata": {},
   "outputs": [
    {
     "name": "stdout",
     "output_type": "stream",
     "text": [
      "El baricentro es  4638.76 km a partir del centro de la Tierra y se encuentra adentro de esta\n"
     ]
    }
   ],
   "source": [
    "m1 = m['Tierra']    \n",
    "m2 = m['Luna'];    R = d['Luna'] \n",
    "#Baricentro\n",
    "M = m2/m1;       \n",
    "b1 = R*M/(1+M)*(10**6)\n",
    "print(\"El baricentro es \", round(b1,2), \"km a partir del centro de la Tierra y se encuentra adentro de esta\")"
   ]
  },
  {
   "cell_type": "code",
   "execution_count": null,
   "metadata": {},
   "outputs": [],
   "source": []
  }
 ],
 "metadata": {
  "kernelspec": {
   "display_name": "Python 3",
   "language": "python",
   "name": "python3"
  },
  "language_info": {
   "codemirror_mode": {
    "name": "ipython",
    "version": 3
   },
   "file_extension": ".py",
   "mimetype": "text/x-python",
   "name": "python",
   "nbconvert_exporter": "python",
   "pygments_lexer": "ipython3",
   "version": "3.6.9"
  }
 },
 "nbformat": 4,
 "nbformat_minor": 2
}
